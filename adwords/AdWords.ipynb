{
 "cells": [
  {
   "cell_type": "markdown",
   "metadata": {},
   "source": [
    "# Connecting to Google Adwords API"
   ]
  },
  {
   "cell_type": "code",
   "execution_count": 96,
   "metadata": {
    "collapsed": false
   },
   "outputs": [],
   "source": [
    "from googleads import adwords\n",
    "from googleads import oauth2\n",
    "from oauth2client import client\n",
    "from __future__ import division\n",
    "\n",
    "import pandas\n",
    "import zlib"
   ]
  },
  {
   "cell_type": "code",
   "execution_count": 2,
   "metadata": {
    "collapsed": false
   },
   "outputs": [],
   "source": [
    "# OAuth 2.0 credential information. In a real application, you'd probably be\n",
    "# pulling these values from a credential storage.\n",
    "CLIENT_ID = '845705914022-5ntkratcadgc2i13cic6cl6dg1vkefii.apps.googleusercontent.com'\n",
    "CLIENT_SECRET = 'W8Ocv49ZWKkAlSP0s81moPxJ'\n",
    "\n",
    "# AdWords API information.\n",
    "DEVELOPER_TOKEN = '4dZVjzaMdTxJbiCMoyDKQg'\n",
    "# Format is <CompanyURL>:<AppName>:<Version>\n",
    "# The user agent is optional but can help Google Debug if we need their help\n",
    "# http://googleadsdeveloper.blogspot.ca/2013/11/please-set-user-agent-or-application.html\n",
    "USER_AGENT = 'quillengage.narrativescience.com:QuillEngage:2.0.0'\n",
    "CLIENT_CUSTOMER_ID = '319-297-2406' # This is our Narrative Science Quill Engage Account"
   ]
  },
  {
   "cell_type": "code",
   "execution_count": 3,
   "metadata": {
    "collapsed": false
   },
   "outputs": [
    {
     "name": "stdout",
     "output_type": "stream",
     "text": [
      "Log into the Google Account you use to access your AdWords accountand go to the following URL: \n",
      "https://accounts.google.com/o/oauth2/auth?scope=https%3A%2F%2Fwww.googleapis.com%2Fauth%2Fadwords&redirect_uri=urn%3Aietf%3Awg%3Aoauth%3A2.0%3Aoob&response_type=code&client_id=845705914022-5ntkratcadgc2i13cic6cl6dg1vkefii.apps.googleusercontent.com&access_type=offline\n",
      "\n"
     ]
    }
   ],
   "source": [
    "api_scopes = 'https://www.googleapis.com/auth/adwords'\n",
    "\"\"\"Retrieve and display the access and refresh token.\"\"\"\n",
    "flow = client.OAuth2WebServerFlow(\n",
    "    client_id=CLIENT_ID,\n",
    "    client_secret=CLIENT_SECRET,\n",
    "    scope=[api_scopes],\n",
    "    user_agent='Ads Python Client Library',\n",
    "    redirect_uri='urn:ietf:wg:oauth:2.0:oob')\n",
    "\n",
    "authorize_url = flow.step1_get_authorize_url()\n",
    "print ('Log into the Google Account you use to access your AdWords account'\n",
    "         'and go to the following URL: \\n%s\\n' % (authorize_url))"
   ]
  },
  {
   "cell_type": "code",
   "execution_count": 4,
   "metadata": {
    "collapsed": false
   },
   "outputs": [],
   "source": [
    "# PASTE YOUR CODE FROM THE BROWSER HERE\n",
    "code = '4/COV8mpZdA1T_-5HRPuNMOXxMs-iZZe4p724cGmJpWQg.4lpB-6YNSQUaXmXvfARQvtiY9PhzmwI'"
   ]
  },
  {
   "cell_type": "code",
   "execution_count": 5,
   "metadata": {
    "collapsed": false
   },
   "outputs": [],
   "source": [
    "try:\n",
    "    credential = flow.step2_exchange(code)\n",
    "except client.FlowExchangeError, e:\n",
    "    print 'Authentication has failed: %s' % e\n",
    "else:\n",
    "    access_token = credential.access_token\n",
    "    refresh_token = credential.refresh_token"
   ]
  },
  {
   "cell_type": "code",
   "execution_count": 6,
   "metadata": {
    "collapsed": false
   },
   "outputs": [
    {
     "name": "stdout",
     "output_type": "stream",
     "text": [
      "1/z76hKi8ZmEhIBmNLwxQD6yS74boRYYOqOoTgKwJOdS_BactUREZofsF9C7PrpE-j\n",
      "You are logged in as customer: 3192972406 with currency USD at Narrative Science in timezone America/Chicago\n"
     ]
    }
   ],
   "source": [
    "print refresh_token\n",
    "oauth2_client = oauth2.GoogleRefreshTokenClient(\n",
    "    CLIENT_ID, CLIENT_SECRET, refresh_token)\n",
    "adwords_client = adwords.AdWordsClient(\n",
    "    DEVELOPER_TOKEN, oauth2_client, USER_AGENT, CLIENT_CUSTOMER_ID)\n",
    "\n",
    "customer = adwords_client.GetService('CustomerService').get()\n",
    "print 'You are logged in as customer: %s with currency %s at %s in timezone %s' % (\n",
    "    customer['customerId'], customer['currencyCode'], customer['companyName'], customer['dateTimeZone'])"
   ]
  },
  {
   "cell_type": "markdown",
   "metadata": {},
   "source": [
    "# Campaign Analysis"
   ]
  },
  {
   "cell_type": "code",
   "execution_count": 110,
   "metadata": {
    "collapsed": false
   },
   "outputs": [
    {
     "data": {
      "text/html": [
       "<div style=\"max-height:1000px;max-width:1500px;overflow:auto;\">\n",
       "<table border=\"1\" class=\"dataframe\">\n",
       "  <thead>\n",
       "    <tr style=\"text-align: right;\">\n",
       "      <th></th>\n",
       "      <th>Campaign</th>\n",
       "      <th>Budget</th>\n",
       "      <th>Campaign ID</th>\n",
       "      <th>Campaign state</th>\n",
       "      <th>Avg. CPC</th>\n",
       "      <th>CTR</th>\n",
       "      <th>Conv. rate</th>\n",
       "      <th>Converted clicks</th>\n",
       "      <th>Cost</th>\n",
       "      <th>Impressions</th>\n",
       "      <th>Total conv. value</th>\n",
       "      <th>Clicks</th>\n",
       "    </tr>\n",
       "  </thead>\n",
       "  <tbody>\n",
       "    <tr>\n",
       "      <th>2014-04-01</th>\n",
       "      <td>Quill Engage</td>\n",
       "      <td>15000000</td>\n",
       "      <td>166806160</td>\n",
       "      <td>paused</td>\n",
       "      <td>950000</td>\n",
       "      <td>4.76%</td>\n",
       "      <td>0.00%</td>\n",
       "      <td>0</td>\n",
       "      <td>950000</td>\n",
       "      <td>21</td>\n",
       "      <td>0</td>\n",
       "      <td>1</td>\n",
       "    </tr>\n",
       "    <tr>\n",
       "      <th>2014-04-01</th>\n",
       "      <td>API</td>\n",
       "      <td>20000000</td>\n",
       "      <td>166805920</td>\n",
       "      <td>paused</td>\n",
       "      <td>1790000</td>\n",
       "      <td>0.77%</td>\n",
       "      <td>0.00%</td>\n",
       "      <td>0</td>\n",
       "      <td>1790000</td>\n",
       "      <td>130</td>\n",
       "      <td>0</td>\n",
       "      <td>1</td>\n",
       "    </tr>\n",
       "    <tr>\n",
       "      <th>2014-04-01</th>\n",
       "      <td>Analytics</td>\n",
       "      <td>25000000</td>\n",
       "      <td>166805800</td>\n",
       "      <td>paused</td>\n",
       "      <td>5495000</td>\n",
       "      <td>0.20%</td>\n",
       "      <td>0.00%</td>\n",
       "      <td>0</td>\n",
       "      <td>10990000</td>\n",
       "      <td>988</td>\n",
       "      <td>0</td>\n",
       "      <td>2</td>\n",
       "    </tr>\n",
       "    <tr>\n",
       "      <th>2014-04-01</th>\n",
       "      <td>Display - Topics &amp; Interests</td>\n",
       "      <td>1000000</td>\n",
       "      <td>167400880</td>\n",
       "      <td>paused</td>\n",
       "      <td>681875</td>\n",
       "      <td>0.20%</td>\n",
       "      <td>0.00%</td>\n",
       "      <td>0</td>\n",
       "      <td>21820000</td>\n",
       "      <td>16102</td>\n",
       "      <td>0</td>\n",
       "      <td>32</td>\n",
       "    </tr>\n",
       "    <tr>\n",
       "      <th>2014-04-01</th>\n",
       "      <td>Display - Content</td>\n",
       "      <td>1000000</td>\n",
       "      <td>167400760</td>\n",
       "      <td>paused</td>\n",
       "      <td>835556</td>\n",
       "      <td>0.18%</td>\n",
       "      <td>3.70%</td>\n",
       "      <td>1</td>\n",
       "      <td>22560000</td>\n",
       "      <td>14719</td>\n",
       "      <td>0</td>\n",
       "      <td>27</td>\n",
       "    </tr>\n",
       "  </tbody>\n",
       "</table>\n",
       "</div>"
      ],
      "text/plain": [
       "                                Campaign    Budget Campaign ID Campaign state  \\\n",
       "2014-04-01                  Quill Engage  15000000   166806160         paused   \n",
       "2014-04-01                           API  20000000   166805920         paused   \n",
       "2014-04-01                     Analytics  25000000   166805800         paused   \n",
       "2014-04-01  Display - Topics & Interests   1000000   167400880         paused   \n",
       "2014-04-01             Display - Content   1000000   167400760         paused   \n",
       "\n",
       "            Avg. CPC    CTR Conv. rate  Converted clicks      Cost  \\\n",
       "2014-04-01    950000  4.76%      0.00%                 0    950000   \n",
       "2014-04-01   1790000  0.77%      0.00%                 0   1790000   \n",
       "2014-04-01   5495000  0.20%      0.00%                 0  10990000   \n",
       "2014-04-01    681875  0.20%      0.00%                 0  21820000   \n",
       "2014-04-01    835556  0.18%      3.70%                 1  22560000   \n",
       "\n",
       "            Impressions  Total conv. value  Clicks  \n",
       "2014-04-01           21                  0       1  \n",
       "2014-04-01          130                  0       1  \n",
       "2014-04-01          988                  0       2  \n",
       "2014-04-01        16102                  0      32  \n",
       "2014-04-01        14719                  0      27  "
      ]
     },
     "execution_count": 110,
     "metadata": {},
     "output_type": "execute_result"
    }
   ],
   "source": [
    "# Retrieve the Report Definition of the service we are interested in (Campaign Performance)\n",
    "fields = ['CAMPAIGN_PERFORMANCE_REPORT']\n",
    "report_def_service = adwords_client.GetService('ReportDefinitionService')\n",
    "report_def = report_def_service.getReportFields(fields)\n",
    "\n",
    "# Define the selector\n",
    "keywords_selector = {\n",
    "    'selector': {\n",
    "        'fields': [\n",
    "            # Attributes\n",
    "            'Amount', 'CampaignName', 'CampaignId', 'CampaignStatus', 'TotalBudget', \n",
    "            # Metrics\n",
    "            'AverageCpc', 'Ctr', 'ConversionRateManyPerClick', 'Conversions', 'Cost', 'Impressions',\n",
    "            'ConversionValue', 'Clicks',\n",
    "            # Segments\n",
    "            'Date'\n",
    "        ],\n",
    "        'dateRange': {\n",
    "            'min': '20140401',\n",
    "            'max': '20140430'\n",
    "        }\n",
    "    },\n",
    "    'reportName': 'Custom Keywords Performance Report',\n",
    "    'reportType': 'CAMPAIGN_PERFORMANCE_REPORT',\n",
    "    'dateRangeType': 'CUSTOM_DATE',\n",
    "    'downloadFormat': 'CSV'\n",
    "}\n",
    "\n",
    "# BEWARE: Google returns Money in micro format. So $1.23 is 1230000 (1.23 x 1,000,000)\n",
    "report_downloader = adwords_client.GetReportDownloader()\n",
    "report = report_downloader.DownloadReportAsStream(keywords_selector)\n",
    "\n",
    "# Read CSV into Pandas -- Skip row one which is the name of the CSV\n",
    "# Index on the next column which defines the column names\n",
    "df = pandas.read_csv(report, skiprows=1, index_col =1)\n",
    "\n",
    "# And finally discard the final row which has a sum/total\n",
    "df = df.ix[:-1]\n",
    "df = df.reset_index()\n",
    "df = df.sort(['Day'])\n",
    "df = df.set_index(['Day'], drop=True)\n",
    "df.index.name = None\n",
    "campaign_df = df\n",
    "campaign_df.head()"
   ]
  },
  {
   "cell_type": "code",
   "execution_count": 63,
   "metadata": {
    "collapsed": false
   },
   "outputs": [
    {
     "data": {
      "text/plain": [
       "array(['API', 'Quill Engage', 'Reporting', 'Display - Topics & Interests',\n",
       "       'Display - Content', 'Analytics', 'Remarketing'], dtype=object)"
      ]
     },
     "execution_count": 63,
     "metadata": {},
     "output_type": "execute_result"
    }
   ],
   "source": [
    "campaign_df['Campaign'].unique()"
   ]
  },
  {
   "cell_type": "code",
   "execution_count": 111,
   "metadata": {
    "collapsed": false
   },
   "outputs": [],
   "source": [
    "qe_df = campaign_df[campaign_df['Campaign'] == 'Quill Engage']"
   ]
  },
  {
   "cell_type": "markdown",
   "metadata": {},
   "source": [
    "## Basic payload for campaigns"
   ]
  },
  {
   "cell_type": "code",
   "execution_count": 120,
   "metadata": {
    "collapsed": false
   },
   "outputs": [
    {
     "name": "stdout",
     "output_type": "stream",
     "text": [
      "paused\n",
      "19690000\n",
      "420000000\n",
      "3\n"
     ]
    }
   ],
   "source": [
    "print qe_df['Campaign state'][-1]\n",
    "print qe_df['Cost'].sum()\n",
    "print qe_df['Budget'].astype(int).sum()\n",
    "print qe_df['Converted clicks'].sum()"
   ]
  },
  {
   "cell_type": "code",
   "execution_count": 119,
   "metadata": {
    "collapsed": false
   },
   "outputs": [
    {
     "name": "stdout",
     "output_type": "stream",
     "text": [
      "420000000\n"
     ]
    }
   ],
   "source": [
    "print qe_df['Budget'].astype(int).sum()"
   ]
  },
  {
   "cell_type": "code",
   "execution_count": 51,
   "metadata": {
    "collapsed": false
   },
   "outputs": [
    {
     "data": {
      "text/html": [
       "<div style=\"max-height:1000px;max-width:1500px;overflow:auto;\">\n",
       "<table border=\"1\" class=\"dataframe\">\n",
       "  <thead>\n",
       "    <tr style=\"text-align: right;\">\n",
       "      <th></th>\n",
       "      <th>Conv. rate</th>\n",
       "      <th>Converted clicks</th>\n",
       "      <th>Clicks</th>\n",
       "    </tr>\n",
       "  </thead>\n",
       "  <tbody>\n",
       "    <tr>\n",
       "      <th>2014-04-01</th>\n",
       "      <td>0.00%</td>\n",
       "      <td>0</td>\n",
       "      <td>1</td>\n",
       "    </tr>\n",
       "    <tr>\n",
       "      <th>2014-04-02</th>\n",
       "      <td>0.00%</td>\n",
       "      <td>0</td>\n",
       "      <td>0</td>\n",
       "    </tr>\n",
       "    <tr>\n",
       "      <th>2014-04-03</th>\n",
       "      <td>0.00%</td>\n",
       "      <td>0</td>\n",
       "      <td>0</td>\n",
       "    </tr>\n",
       "    <tr>\n",
       "      <th>2014-04-04</th>\n",
       "      <td>100.00%</td>\n",
       "      <td>2</td>\n",
       "      <td>2</td>\n",
       "    </tr>\n",
       "    <tr>\n",
       "      <th>2014-04-05</th>\n",
       "      <td>0.00%</td>\n",
       "      <td>0</td>\n",
       "      <td>0</td>\n",
       "    </tr>\n",
       "    <tr>\n",
       "      <th>2014-04-06</th>\n",
       "      <td>0.00%</td>\n",
       "      <td>0</td>\n",
       "      <td>0</td>\n",
       "    </tr>\n",
       "    <tr>\n",
       "      <th>2014-04-07</th>\n",
       "      <td>0.00%</td>\n",
       "      <td>0</td>\n",
       "      <td>1</td>\n",
       "    </tr>\n",
       "    <tr>\n",
       "      <th>2014-04-08</th>\n",
       "      <td>0.00%</td>\n",
       "      <td>0</td>\n",
       "      <td>1</td>\n",
       "    </tr>\n",
       "    <tr>\n",
       "      <th>2014-04-09</th>\n",
       "      <td>0.00%</td>\n",
       "      <td>0</td>\n",
       "      <td>1</td>\n",
       "    </tr>\n",
       "    <tr>\n",
       "      <th>2014-04-10</th>\n",
       "      <td>0.00%</td>\n",
       "      <td>0</td>\n",
       "      <td>1</td>\n",
       "    </tr>\n",
       "    <tr>\n",
       "      <th>2014-04-11</th>\n",
       "      <td>0.00%</td>\n",
       "      <td>0</td>\n",
       "      <td>0</td>\n",
       "    </tr>\n",
       "    <tr>\n",
       "      <th>2014-04-12</th>\n",
       "      <td>0.00%</td>\n",
       "      <td>0</td>\n",
       "      <td>0</td>\n",
       "    </tr>\n",
       "    <tr>\n",
       "      <th>2014-04-13</th>\n",
       "      <td>0.00%</td>\n",
       "      <td>0</td>\n",
       "      <td>0</td>\n",
       "    </tr>\n",
       "    <tr>\n",
       "      <th>2014-04-14</th>\n",
       "      <td>0.00%</td>\n",
       "      <td>0</td>\n",
       "      <td>0</td>\n",
       "    </tr>\n",
       "    <tr>\n",
       "      <th>2014-04-15</th>\n",
       "      <td>0.00%</td>\n",
       "      <td>0</td>\n",
       "      <td>1</td>\n",
       "    </tr>\n",
       "    <tr>\n",
       "      <th>2014-04-16</th>\n",
       "      <td>0.00%</td>\n",
       "      <td>0</td>\n",
       "      <td>1</td>\n",
       "    </tr>\n",
       "    <tr>\n",
       "      <th>2014-04-17</th>\n",
       "      <td>0.00%</td>\n",
       "      <td>0</td>\n",
       "      <td>0</td>\n",
       "    </tr>\n",
       "    <tr>\n",
       "      <th>2014-04-18</th>\n",
       "      <td>0.00%</td>\n",
       "      <td>0</td>\n",
       "      <td>0</td>\n",
       "    </tr>\n",
       "    <tr>\n",
       "      <th>2014-04-21</th>\n",
       "      <td>0.00%</td>\n",
       "      <td>0</td>\n",
       "      <td>1</td>\n",
       "    </tr>\n",
       "    <tr>\n",
       "      <th>2014-04-22</th>\n",
       "      <td>50.00%</td>\n",
       "      <td>1</td>\n",
       "      <td>2</td>\n",
       "    </tr>\n",
       "    <tr>\n",
       "      <th>2014-04-23</th>\n",
       "      <td>0.00%</td>\n",
       "      <td>0</td>\n",
       "      <td>0</td>\n",
       "    </tr>\n",
       "    <tr>\n",
       "      <th>2014-04-24</th>\n",
       "      <td>0.00%</td>\n",
       "      <td>0</td>\n",
       "      <td>1</td>\n",
       "    </tr>\n",
       "    <tr>\n",
       "      <th>2014-04-25</th>\n",
       "      <td>0.00%</td>\n",
       "      <td>0</td>\n",
       "      <td>0</td>\n",
       "    </tr>\n",
       "    <tr>\n",
       "      <th>2014-04-26</th>\n",
       "      <td>0.00%</td>\n",
       "      <td>0</td>\n",
       "      <td>0</td>\n",
       "    </tr>\n",
       "    <tr>\n",
       "      <th>2014-04-27</th>\n",
       "      <td>0.00%</td>\n",
       "      <td>0</td>\n",
       "      <td>0</td>\n",
       "    </tr>\n",
       "    <tr>\n",
       "      <th>2014-04-28</th>\n",
       "      <td>0.00%</td>\n",
       "      <td>0</td>\n",
       "      <td>4</td>\n",
       "    </tr>\n",
       "    <tr>\n",
       "      <th>2014-04-29</th>\n",
       "      <td>0.00%</td>\n",
       "      <td>0</td>\n",
       "      <td>0</td>\n",
       "    </tr>\n",
       "    <tr>\n",
       "      <th>2014-04-30</th>\n",
       "      <td>0.00%</td>\n",
       "      <td>0</td>\n",
       "      <td>0</td>\n",
       "    </tr>\n",
       "  </tbody>\n",
       "</table>\n",
       "</div>"
      ],
      "text/plain": [
       "           Conv. rate  Converted clicks  Clicks\n",
       "2014-04-01      0.00%                 0       1\n",
       "2014-04-02      0.00%                 0       0\n",
       "2014-04-03      0.00%                 0       0\n",
       "2014-04-04    100.00%                 2       2\n",
       "2014-04-05      0.00%                 0       0\n",
       "2014-04-06      0.00%                 0       0\n",
       "2014-04-07      0.00%                 0       1\n",
       "2014-04-08      0.00%                 0       1\n",
       "2014-04-09      0.00%                 0       1\n",
       "2014-04-10      0.00%                 0       1\n",
       "2014-04-11      0.00%                 0       0\n",
       "2014-04-12      0.00%                 0       0\n",
       "2014-04-13      0.00%                 0       0\n",
       "2014-04-14      0.00%                 0       0\n",
       "2014-04-15      0.00%                 0       1\n",
       "2014-04-16      0.00%                 0       1\n",
       "2014-04-17      0.00%                 0       0\n",
       "2014-04-18      0.00%                 0       0\n",
       "2014-04-21      0.00%                 0       1\n",
       "2014-04-22     50.00%                 1       2\n",
       "2014-04-23      0.00%                 0       0\n",
       "2014-04-24      0.00%                 0       1\n",
       "2014-04-25      0.00%                 0       0\n",
       "2014-04-26      0.00%                 0       0\n",
       "2014-04-27      0.00%                 0       0\n",
       "2014-04-28      0.00%                 0       4\n",
       "2014-04-29      0.00%                 0       0\n",
       "2014-04-30      0.00%                 0       0"
      ]
     },
     "execution_count": 51,
     "metadata": {},
     "output_type": "execute_result"
    }
   ],
   "source": [
    "qe_df[['Conv. rate', 'Converted clicks', 'Clicks']]"
   ]
  },
  {
   "cell_type": "markdown",
   "metadata": {},
   "source": [
    "# Adgroup Analysis"
   ]
  },
  {
   "cell_type": "code",
   "execution_count": 101,
   "metadata": {
    "collapsed": false
   },
   "outputs": [
    {
     "data": {
      "text/html": [
       "<div style=\"max-height:1000px;max-width:1500px;overflow:auto;\">\n",
       "<table border=\"1\" class=\"dataframe\">\n",
       "  <thead>\n",
       "    <tr style=\"text-align: right;\">\n",
       "      <th></th>\n",
       "      <th>Ad group</th>\n",
       "      <th>Ad group ID</th>\n",
       "      <th>Campaign ID</th>\n",
       "      <th>Campaign</th>\n",
       "      <th>Campaign state</th>\n",
       "      <th>Ad group state</th>\n",
       "      <th>Avg. CPC</th>\n",
       "      <th>CTR</th>\n",
       "      <th>Conv. rate</th>\n",
       "      <th>Converted clicks</th>\n",
       "      <th>Cost</th>\n",
       "      <th>Impressions</th>\n",
       "      <th>Total conv. value</th>\n",
       "      <th>Clicks</th>\n",
       "      <th>Avg. CPM</th>\n",
       "    </tr>\n",
       "  </thead>\n",
       "  <tbody>\n",
       "    <tr>\n",
       "      <th>2014-04-01</th>\n",
       "      <td>Sales</td>\n",
       "      <td>13789035760</td>\n",
       "      <td>166805800</td>\n",
       "      <td>Analytics</td>\n",
       "      <td>paused</td>\n",
       "      <td>paused</td>\n",
       "      <td>0</td>\n",
       "      <td>0.00%</td>\n",
       "      <td>0.00%</td>\n",
       "      <td>0</td>\n",
       "      <td>0</td>\n",
       "      <td>24</td>\n",
       "      <td>0</td>\n",
       "      <td>0</td>\n",
       "      <td>0</td>\n",
       "    </tr>\n",
       "    <tr>\n",
       "      <th>2014-04-01</th>\n",
       "      <td>Business Analytics</td>\n",
       "      <td>13909826440</td>\n",
       "      <td>167400760</td>\n",
       "      <td>Display - Content</td>\n",
       "      <td>paused</td>\n",
       "      <td>enabled</td>\n",
       "      <td>490000</td>\n",
       "      <td>0.10%</td>\n",
       "      <td>0.00%</td>\n",
       "      <td>0</td>\n",
       "      <td>490000</td>\n",
       "      <td>1044</td>\n",
       "      <td>0</td>\n",
       "      <td>1</td>\n",
       "      <td>469349</td>\n",
       "    </tr>\n",
       "    <tr>\n",
       "      <th>2014-04-01</th>\n",
       "      <td>Marketing</td>\n",
       "      <td>13909827520</td>\n",
       "      <td>167400880</td>\n",
       "      <td>Display - Topics &amp; Interests</td>\n",
       "      <td>paused</td>\n",
       "      <td>enabled</td>\n",
       "      <td>0</td>\n",
       "      <td>0.00%</td>\n",
       "      <td>0.00%</td>\n",
       "      <td>0</td>\n",
       "      <td>0</td>\n",
       "      <td>77</td>\n",
       "      <td>0</td>\n",
       "      <td>0</td>\n",
       "      <td>0</td>\n",
       "    </tr>\n",
       "    <tr>\n",
       "      <th>2014-04-01</th>\n",
       "      <td>Data Analytics</td>\n",
       "      <td>13909826560</td>\n",
       "      <td>167400760</td>\n",
       "      <td>Display - Content</td>\n",
       "      <td>paused</td>\n",
       "      <td>paused</td>\n",
       "      <td>0</td>\n",
       "      <td>0.00%</td>\n",
       "      <td>0.00%</td>\n",
       "      <td>0</td>\n",
       "      <td>0</td>\n",
       "      <td>411</td>\n",
       "      <td>0</td>\n",
       "      <td>0</td>\n",
       "      <td>0</td>\n",
       "    </tr>\n",
       "    <tr>\n",
       "      <th>2014-04-01</th>\n",
       "      <td>Custom</td>\n",
       "      <td>13789036840</td>\n",
       "      <td>166806040</td>\n",
       "      <td>Reporting</td>\n",
       "      <td>paused</td>\n",
       "      <td>paused</td>\n",
       "      <td>0</td>\n",
       "      <td>0.00%</td>\n",
       "      <td>0.00%</td>\n",
       "      <td>0</td>\n",
       "      <td>0</td>\n",
       "      <td>34</td>\n",
       "      <td>0</td>\n",
       "      <td>0</td>\n",
       "      <td>0</td>\n",
       "    </tr>\n",
       "  </tbody>\n",
       "</table>\n",
       "</div>"
      ],
      "text/plain": [
       "                      Ad group  Ad group ID Campaign ID  \\\n",
       "2014-04-01               Sales  13789035760   166805800   \n",
       "2014-04-01  Business Analytics  13909826440   167400760   \n",
       "2014-04-01           Marketing  13909827520   167400880   \n",
       "2014-04-01      Data Analytics  13909826560   167400760   \n",
       "2014-04-01              Custom  13789036840   166806040   \n",
       "\n",
       "                                Campaign Campaign state Ad group state  \\\n",
       "2014-04-01                     Analytics         paused         paused   \n",
       "2014-04-01             Display - Content         paused        enabled   \n",
       "2014-04-01  Display - Topics & Interests         paused        enabled   \n",
       "2014-04-01             Display - Content         paused         paused   \n",
       "2014-04-01                     Reporting         paused         paused   \n",
       "\n",
       "            Avg. CPC    CTR Conv. rate  Converted clicks    Cost  Impressions  \\\n",
       "2014-04-01         0  0.00%      0.00%                 0       0           24   \n",
       "2014-04-01    490000  0.10%      0.00%                 0  490000         1044   \n",
       "2014-04-01         0  0.00%      0.00%                 0       0           77   \n",
       "2014-04-01         0  0.00%      0.00%                 0       0          411   \n",
       "2014-04-01         0  0.00%      0.00%                 0       0           34   \n",
       "\n",
       "            Total conv. value  Clicks  Avg. CPM  \n",
       "2014-04-01                  0       0         0  \n",
       "2014-04-01                  0       1    469349  \n",
       "2014-04-01                  0       0         0  \n",
       "2014-04-01                  0       0         0  \n",
       "2014-04-01                  0       0         0  "
      ]
     },
     "execution_count": 101,
     "metadata": {},
     "output_type": "execute_result"
    }
   ],
   "source": [
    "PERFORMANCE_REPORT = 'ADGROUP_PERFORMANCE_REPORT'\n",
    "ATTRS = ['AdGroupId', 'AdGroupName', 'CampaignId', 'CampaignName', 'CampaignStatus', 'AdGroupStatus']\n",
    "METRICS = ['AverageCpc', 'Ctr', 'ConversionRateManyPerClick', 'Conversions', 'Cost', 'Impressions', \n",
    "           'ConversionValue', 'Clicks', 'AverageCpm']\n",
    "SEGMENTS = ['Date']\n",
    "\n",
    "keywords_selector = {\n",
    "    'selector': {\n",
    "        'fields': ATTRS + METRICS + SEGMENTS,\n",
    "        'dateRange': {\n",
    "            'min': '20140401',\n",
    "            'max': '20140430'\n",
    "        }\n",
    "    },\n",
    "    'reportName': 'Custom Keywords Performance Report',\n",
    "    'reportType': PERFORMANCE_REPORT,\n",
    "    'dateRangeType': 'CUSTOM_DATE',\n",
    "    'downloadFormat': 'CSV'\n",
    "}\n",
    "\n",
    "# BEWARE: Google returns Money in micro format. So $1.23 is 1230000 (1.23 x 1,000,000)\n",
    "report_downloader = adwords_client.GetReportDownloader()\n",
    "report = report_downloader.DownloadReportAsStream(keywords_selector)\n",
    "\n",
    "# Read CSV into Pandas -- Skip row one which is the name of the CSV\n",
    "# Index on the next column which defines the column names\n",
    "df = pandas.read_csv(report, skiprows=1, index_col =1)\n",
    "\n",
    "# And finally discard the final row which has a sum/total\n",
    "df = df.ix[:-1]\n",
    "df = df.reset_index()\n",
    "df = df.sort(['Day'])\n",
    "df = df.set_index(['Day'], drop=True)\n",
    "df.index.name = None\n",
    "adgroup_df = df\n",
    "adgroup_df.head()"
   ]
  },
  {
   "cell_type": "code",
   "execution_count": 67,
   "metadata": {
    "collapsed": false
   },
   "outputs": [
    {
     "data": {
      "text/plain": [
       "array(['Analytics', 'Reporting', 'Quill Engage', 'API',\n",
       "       'Display - Topics & Interests', 'Display - Content', 'Remarketing'], dtype=object)"
      ]
     },
     "execution_count": 67,
     "metadata": {},
     "output_type": "execute_result"
    }
   ],
   "source": [
    "adgroup_df['Campaign'].unique()"
   ]
  },
  {
   "cell_type": "code",
   "execution_count": 124,
   "metadata": {
    "collapsed": true
   },
   "outputs": [],
   "source": [
    "qe_df = adgroup_df[adgroup_df['Campaign'] == 'Quill Engage']"
   ]
  },
  {
   "cell_type": "code",
   "execution_count": 125,
   "metadata": {
    "collapsed": false
   },
   "outputs": [
    {
     "data": {
      "text/plain": [
       "array(['Brand', 'Brand - Misspell'], dtype=object)"
      ]
     },
     "execution_count": 125,
     "metadata": {},
     "output_type": "execute_result"
    }
   ],
   "source": [
    "qe_df['Ad group'].unique()"
   ]
  },
  {
   "cell_type": "code",
   "execution_count": 126,
   "metadata": {
    "collapsed": false
   },
   "outputs": [],
   "source": [
    "models = []\n",
    "for adgroup in qe_df['Ad group'].unique():\n",
    "    adgroup_data = qe_df[qe_df['Ad group'] == adgroup]\n",
    "    adgroup_model = {\n",
    "        'name': adgroup,\n",
    "        'CPC': adgroup_data['Cost'].sum()/adgroup_data['Clicks'].sum(),\n",
    "        'CTR': adgroup_data['Clicks'].sum()/adgroup_data['Impressions'].sum(),\n",
    "        'Conversion rate': adgroup_data['Converted clicks'].sum()/adgroup_data['Clicks'].sum()\n",
    "    }\n",
    "    models.append(adgroup_model)"
   ]
  },
  {
   "cell_type": "code",
   "execution_count": 127,
   "metadata": {
    "collapsed": false
   },
   "outputs": [
    {
     "data": {
      "text/plain": [
       "[{'CPC': 1055333.3333333333,\n",
       "  'CTR': 0.05952380952380952,\n",
       "  'Conversion rate': 0.13333333333333333,\n",
       "  'name': 'Brand'},\n",
       " {'CPC': 1930000.0,\n",
       "  'CTR': 0.03389830508474576,\n",
       "  'Conversion rate': 0.5,\n",
       "  'name': 'Brand - Misspell'}]"
      ]
     },
     "execution_count": 127,
     "metadata": {},
     "output_type": "execute_result"
    }
   ],
   "source": [
    "models"
   ]
  },
  {
   "cell_type": "code",
   "execution_count": 128,
   "metadata": {
    "collapsed": false
   },
   "outputs": [],
   "source": [
    "b = pandas.DataFrame(models)"
   ]
  },
  {
   "cell_type": "code",
   "execution_count": 138,
   "metadata": {
    "collapsed": false
   },
   "outputs": [
    {
     "data": {
      "text/html": [
       "<div style=\"max-height:1000px;max-width:1500px;overflow:auto;\">\n",
       "<table border=\"1\" class=\"dataframe\">\n",
       "  <thead>\n",
       "    <tr style=\"text-align: right;\">\n",
       "      <th></th>\n",
       "      <th>CPC</th>\n",
       "      <th>CTR</th>\n",
       "      <th>Conversion rate</th>\n",
       "      <th>name</th>\n",
       "    </tr>\n",
       "  </thead>\n",
       "  <tbody>\n",
       "    <tr>\n",
       "      <th>0</th>\n",
       "      <td>1055333.333333</td>\n",
       "      <td>0.059524</td>\n",
       "      <td>0.133333</td>\n",
       "      <td>Brand</td>\n",
       "    </tr>\n",
       "    <tr>\n",
       "      <th>1</th>\n",
       "      <td>1930000.000000</td>\n",
       "      <td>0.033898</td>\n",
       "      <td>0.500000</td>\n",
       "      <td>Brand - Misspell</td>\n",
       "    </tr>\n",
       "  </tbody>\n",
       "</table>\n",
       "</div>"
      ],
      "text/plain": [
       "              CPC       CTR  Conversion rate              name\n",
       "0  1055333.333333  0.059524         0.133333             Brand\n",
       "1  1930000.000000  0.033898         0.500000  Brand - Misspell"
      ]
     },
     "execution_count": 138,
     "metadata": {},
     "output_type": "execute_result"
    }
   ],
   "source": [
    "b"
   ]
  },
  {
   "cell_type": "code",
   "execution_count": 139,
   "metadata": {
    "collapsed": false
   },
   "outputs": [
    {
     "data": {
      "text/plain": [
       "1055333.3333333333"
      ]
     },
     "execution_count": 139,
     "metadata": {},
     "output_type": "execute_result"
    }
   ],
   "source": [
    "b['CPC'][0]"
   ]
  },
  {
   "cell_type": "code",
   "execution_count": null,
   "metadata": {
    "collapsed": true
   },
   "outputs": [],
   "source": []
  }
 ],
 "metadata": {
  "kernelspec": {
   "display_name": "Python 2",
   "language": "python",
   "name": "python2"
  },
  "language_info": {
   "codemirror_mode": {
    "name": "ipython",
    "version": 2
   },
   "file_extension": ".py",
   "mimetype": "text/x-python",
   "name": "python",
   "nbconvert_exporter": "python",
   "pygments_lexer": "ipython2",
   "version": "2.7.9"
  }
 },
 "nbformat": 4,
 "nbformat_minor": 0
}
